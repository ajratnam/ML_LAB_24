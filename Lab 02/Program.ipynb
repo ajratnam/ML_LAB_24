{
 "cells": [
  {
   "cell_type": "code",
   "execution_count": 27,
   "id": "96215f45-7664-4f28-a0ff-3ab1acfa475f",
   "metadata": {
    "ExecuteTime": {
     "end_time": "2024-09-11T03:28:59.005283Z",
     "start_time": "2024-09-11T03:28:59.001674Z"
    }
   },
   "outputs": [],
   "source": [
    "import pandas as pd\n",
    "import numpy as np\n",
    "import matplotlib.pyplot as plt\n",
    "import seaborn as sns"
   ]
  },
  {
   "cell_type": "code",
   "outputs": [
    {
     "name": "stdout",
     "output_type": "stream",
     "text": [
      "Dimensionality of the vector space: (10, 5)\n",
      "Number of vectors: 10\n",
      "Rank of matrix A: 3\n",
      "Price of each item: [ 1. 55. 18.]\n"
     ]
    }
   ],
   "source": [
    "def calculate_price(purchase_data):\n",
    "    \"\"\"\n",
    "    Calculates the price of each item from purchase data.\n",
    "\n",
    "    Args:\n",
    "        file_path (str): The path to the Excel file containing purchase data.\n",
    "\n",
    "    Returns:\n",
    "        numpy.ndarray: An array containing the price of each item.\n",
    "    \"\"\"\n",
    "    A = purchase_data.iloc[:, 1:4]\n",
    "    C = purchase_data.iloc[:, 4]\n",
    "    A_INV = np.linalg.pinv(A)\n",
    "    price_of_each_item = (A_INV @ C)\n",
    "    return price_of_each_item, A, C\n",
    "\n",
    "FILE = '../Datasets/Lab Session Data.xlsx'\n",
    "\n",
    "purchase_data = pd.read_excel(FILE, sheet_name='Purchase data', usecols='A:E')\n",
    "price_of_each_item, A, C = calculate_price(purchase_data)\n",
    "\n",
    "print(\"Dimensionality of the vector space:\", purchase_data.shape)\n",
    "print(\"Number of vectors:\", purchase_data.shape[0])\n",
    "print(\"Rank of matrix A:\", np.linalg.matrix_rank(A))\n",
    "print(\"Price of each item:\", price_of_each_item)"
   ],
   "metadata": {
    "collapsed": false,
    "ExecuteTime": {
     "end_time": "2024-09-11T03:28:59.233803Z",
     "start_time": "2024-09-11T03:28:59.193105Z"
    }
   },
   "id": "e6656fc31fd9cd9",
   "execution_count": 28
  },
  {
   "cell_type": "code",
   "execution_count": 29,
   "id": "75da78edf530b000",
   "metadata": {
    "collapsed": false,
    "ExecuteTime": {
     "end_time": "2024-09-11T03:28:59.421853Z",
     "start_time": "2024-09-11T03:28:59.417287Z"
    }
   },
   "outputs": [
    {
     "name": "stdout",
     "output_type": "stream",
     "text": [
      "Vector X: [ 1. 55. 18.]\n"
     ]
    }
   ],
   "source": [
    "x = price_of_each_item\n",
    "print(\"Vector X:\", x) "
   ]
  },
  {
   "cell_type": "code",
   "execution_count": 30,
   "id": "3ef785bc64beb1e7",
   "metadata": {
    "collapsed": false,
    "ExecuteTime": {
     "end_time": "2024-09-11T03:28:59.571087Z",
     "start_time": "2024-09-11T03:28:59.563263Z"
    }
   },
   "outputs": [
    {
     "name": "stdout",
     "output_type": "stream",
     "text": [
      "Classification of each customer:\n",
      "   Payment (Rs) Classification\n",
      "0           386           RICH\n",
      "1           289           RICH\n",
      "2           393           RICH\n",
      "3           110           POOR\n",
      "4           280           RICH\n",
      "5           167           POOR\n",
      "6           271           RICH\n",
      "7           274           RICH\n",
      "8           148           POOR\n",
      "9           198           POOR\n",
      "\n",
      "Customer with the closest payment to 250 : RICH\n"
     ]
    }
   ],
   "source": [
    "def classify_customers(data_series, threshold):\n",
    "    \"\"\"\n",
    "    Classifies customers as \"RICH\" or \"POOR\" based on their payment amount.\n",
    "\n",
    "    Args:\n",
    "        data_series (pandas.Series): A series containing payment amounts.\n",
    "        threshold (float): The threshold value for classification.\n",
    "\n",
    "    Returns:\n",
    "        pandas.DataFrame: A DataFrame with payment amounts and corresponding classifications.\n",
    "    \"\"\"\n",
    "    classification = [\"RICH\" if x > threshold else \"POOR\" for x in data_series]\n",
    "    data = data_series.to_frame()\n",
    "    data[\"Classification\"] = classification\n",
    "    return data\n",
    "\n",
    "def find_closest_customer(data, payment):\n",
    "    \"\"\"\n",
    "    Finds the customer with the closest payment to a given payment amount.\n",
    "\n",
    "    Args:\n",
    "        data (pandas.DataFrame): A DataFrame with payment amounts and classifications.\n",
    "        payment (float): The payment amount to compare with.\n",
    "\n",
    "    Returns:\n",
    "        str: The classification of the customer with the closest payment.\n",
    "    \"\"\"\n",
    "    d1_dist = {classification: abs(customer_payment - payment) for index, customer_payment, classification in data.itertuples()}\n",
    "    return min(d1_dist, key=d1_dist.get)\n",
    "\n",
    "\n",
    "data = classify_customers(C, 200)\n",
    "print(\"Classification of each customer:\")\n",
    "print(data)\n",
    "print()\n",
    "\n",
    "pay = 250\n",
    "closest_customer = find_closest_customer(data, pay)\n",
    "print(\"Customer with the closest payment to\", pay, \":\", closest_customer)"
   ]
  },
  {
   "cell_type": "code",
   "execution_count": 31,
   "id": "1c1718101cff34e4",
   "metadata": {
    "collapsed": false,
    "ExecuteTime": {
     "end_time": "2024-09-11T03:28:59.883778Z",
     "start_time": "2024-09-11T03:28:59.731879Z"
    }
   },
   "outputs": [
    {
     "name": "stdout",
     "output_type": "stream",
     "text": [
      "Mean stock price of IRCTC: 1560.6634538152612 INR\n",
      "Variance of stock price of IRCTC: 58732.36535253918 INR\n",
      "Mean of stocks on wednesday of IRCTC 1550.7060000000001 INR\n",
      "Mean of stocks of April of IRCTC 1698.9526315789474 INR\n",
      "Probability of loss in IRCTC stock price 0.4979919678714859\n",
      "Probability of profit on Wednesday in IRCTC stock price 0.08433734939759036\n",
      "Probability of profit given Wednesday in IRCTC stock price 0.42\n"
     ]
    },
    {
     "data": {
      "text/plain": "<Figure size 640x480 with 1 Axes>",
      "image/png": "[encoded data removed]"
     },
     "metadata": {},
     "output_type": "display_data"
    }
   ],
   "source": [
    "def analyze_stock_price(file_path):\n",
    "    \"\"\"\n",
    "    Analyzes stock price data and calculates various statistics.\n",
    "\n",
    "    Args:\n",
    "        file_path (str): The path to the Excel file containing stock price data.\n",
    "\n",
    "    Returns:\n",
    "        tuple: A tuple containing the calculated statistics and the scatter plot data.\n",
    "    \"\"\"\n",
    "    irctc_stock_price = pd.read_excel(file_path, sheet_name=\"IRCTC Stock Price\")\n",
    "\n",
    "    mean_price = irctc_stock_price[\"Price\"].mean()\n",
    "    variance_price = irctc_stock_price[\"Price\"].var()\n",
    "    mean_wed_price = irctc_stock_price[irctc_stock_price[\"Day\"] == \"Wed\"][\"Price\"].mean()\n",
    "    mean_apr_price = irctc_stock_price[irctc_stock_price[\"Month\"] == \"Apr\"][\"Price\"].mean()\n",
    "    prob_loss = len(irctc_stock_price[irctc_stock_price[\"Chg%\"] < 0]) / len(irctc_stock_price)\n",
    "    prob_profit_wed = len(irctc_stock_price[(irctc_stock_price[\"Chg%\"] > 0) & (irctc_stock_price[\"Day\"] == \"Wed\")]) / len(irctc_stock_price)\n",
    "    prob_profit_given_wed = len(irctc_stock_price[(irctc_stock_price[\"Chg%\"] > 0) & (irctc_stock_price[\"Day\"] == \"Wed\")]) / len(irctc_stock_price[irctc_stock_price[\"Day\"] == \"Wed\"])\n",
    "\n",
    "    scatter_data = (irctc_stock_price[\"Day\"], irctc_stock_price[\"Chg%\"])\n",
    "\n",
    "    return mean_price, variance_price, mean_wed_price, mean_apr_price, prob_loss, prob_profit_wed, prob_profit_given_wed, scatter_data\n",
    "\n",
    "\n",
    "mean_price, variance_price, mean_wed_price, mean_apr_price, prob_loss, prob_profit_wed, prob_profit_given_wed, scatter_data = analyze_stock_price(FILE)\n",
    "\n",
    "print(\"Mean stock price of IRCTC:\", mean_price, \"INR\")\n",
    "print(\"Variance of stock price of IRCTC:\", variance_price, \"INR\")\n",
    "print(\"Mean of stocks on wednesday of IRCTC\", mean_wed_price, \"INR\")\n",
    "print(\"Mean of stocks of April of IRCTC\", mean_apr_price, \"INR\")\n",
    "print(\"Probability of loss in IRCTC stock price\", prob_loss)\n",
    "print(\"Probability of profit on Wednesday in IRCTC stock price\", prob_profit_wed)\n",
    "print(\"Probability of profit given Wednesday in IRCTC stock price\", prob_profit_given_wed)\n",
    "\n",
    "plt.scatter(scatter_data[0], scatter_data[1])\n",
    "plt.show()"
   ]
  },
  {
   "cell_type": "code",
   "execution_count": 32,
   "id": "ca6edef9d5e285a0",
   "metadata": {
    "collapsed": false,
    "ExecuteTime": {
     "end_time": "2024-09-11T03:29:02.790255Z",
     "start_time": "2024-09-11T03:29:00.007354Z"
    }
   },
   "outputs": [
    {
     "data": {
      "text/plain": "                          Data Type Categorical/Numerical     Data Range  \\\nage                           int64             Numerical      1 - 65526   \nsex                          object           Categorical            N/A   \non thyroxine                 object           Categorical            N/A   \nquery on thyroxine           object           Categorical            N/A   \non antithyroid medication    object           Categorical            N/A   \nsick                         object           Categorical            N/A   \npregnant                     object           Categorical            N/A   \nthyroid surgery              object           Categorical            N/A   \nI131 treatment               object           Categorical            N/A   \nquery hypothyroid            object           Categorical            N/A   \nquery hyperthyroid           object           Categorical            N/A   \nlithium                      object           Categorical            N/A   \ngoitre                       object           Categorical            N/A   \ntumor                        object           Categorical            N/A   \nhypopituitary                object           Categorical            N/A   \npsych                        object           Categorical            N/A   \nTSH measured                 object           Categorical            N/A   \nTSH                         float64             Numerical  0.005 - 530.0   \nT3 measured                  object           Categorical            N/A   \nT3                          float64             Numerical    0.05 - 18.0   \nTT4 measured                 object           Categorical            N/A   \nTT4                         float64             Numerical    2.0 - 600.0   \nT4U measured                 object           Categorical            N/A   \nT4U                         float64             Numerical    0.17 - 2.33   \nFTI measured                 object           Categorical            N/A   \nFTI                         float64             Numerical    1.4 - 881.0   \nTBG measured                 object           Categorical            N/A   \nTBG                         float64             Numerical    0.1 - 200.0   \nreferral source              object           Categorical            N/A   \nCondition                    object           Categorical            N/A   \n\n                           Number of Missing Values Outliers        Mean  \\\nage                                               0        3   73.555822   \nsex                                             307      N/A         N/A   \non thyroxine                                      0      N/A         N/A   \nquery on thyroxine                                0      N/A         N/A   \non antithyroid medication                         0      N/A         N/A   \nsick                                              0      N/A         N/A   \npregnant                                          0      N/A         N/A   \nthyroid surgery                                   0      N/A         N/A   \nI131 treatment                                    0      N/A         N/A   \nquery hypothyroid                                 0      N/A         N/A   \nquery hyperthyroid                                0      N/A         N/A   \nlithium                                           0      N/A         N/A   \ngoitre                                            0      N/A         N/A   \ntumor                                             0      N/A         N/A   \nhypopituitary                                     0      N/A         N/A   \npsych                                             0      N/A         N/A   \nTSH measured                                      0      N/A         N/A   \nTSH                                             842      100    5.218403   \nT3 measured                                       0      N/A         N/A   \nT3                                             2604       86    1.970629   \nTT4 measured                                      0      N/A         N/A   \nTT4                                             442      101  108.700305   \nT4U measured                                      0      N/A         N/A   \nT4U                                             809      147    0.976056   \nFTI measured                                      0      N/A         N/A   \nFTI                                             802       95  113.640746   \nTBG measured                                      0      N/A         N/A   \nTBG                                            8823       11   29.870057   \nreferral source                                   0      N/A         N/A   \nCondition                                         0      N/A         N/A   \n\n                                 Variance  \nage                        1401800.868871  \nsex                                   N/A  \non thyroxine                          N/A  \nquery on thyroxine                    N/A  \non antithyroid medication             N/A  \nsick                                  N/A  \npregnant                              N/A  \nthyroid surgery                       N/A  \nI131 treatment                        N/A  \nquery hypothyroid                     N/A  \nquery hyperthyroid                    N/A  \nlithium                               N/A  \ngoitre                                N/A  \ntumor                                 N/A  \nhypopituitary                         N/A  \npsych                                 N/A  \nTSH measured                          N/A  \nTSH                            584.866153  \nT3 measured                           N/A  \nT3                               0.787796  \nTT4 measured                          N/A  \nTT4                           1407.950791  \nT4U measured                          N/A  \nT4U                              0.040144  \nFTI measured                          N/A  \nFTI                           1726.539585  \nTBG measured                          N/A  \nTBG                            444.387643  \nreferral source                       N/A  \nCondition                             N/A  ",
      "text/html": "<div>\n<style scoped>\n    .dataframe tbody tr th:only-of-type {\n        vertical-align: middle;\n    }\n\n    .dataframe tbody tr th {\n        vertical-align: top;\n    }\n\n    .dataframe thead th {\n        text-align: right;\n    }\n</style>\n<table border=\"1\" class=\"dataframe\">\n  <thead>\n    <tr style=\"text-align: right;\">\n      <th></th>\n      <th>Data Type</th>\n      <th>Categorical/Numerical</th>\n      <th>Data Range</th>\n      <th>Number of Missing Values</th>\n      <th>Outliers</th>\n      <th>Mean</th>\n      <th>Variance</th>\n    </tr>\n  </thead>\n  <tbody>\n    <tr>\n      <th>age</th>\n      <td>int64</td>\n      <td>Numerical</td>\n      <td>1 - 65526</td>\n      <td>0</td>\n      <td>3</td>\n      <td>73.555822</td>\n      <td>1401800.868871</td>\n    </tr>\n    <tr>\n      <th>sex</th>\n      <td>object</td>\n      <td>Categorical</td>\n      <td>N/A</td>\n      <td>307</td>\n      <td>N/A</td>\n      <td>N/A</td>\n      <td>N/A</td>\n    </tr>\n    <tr>\n      <th>on thyroxine</th>\n      <td>object</td>\n      <td>Categorical</td>\n      <td>N/A</td>\n      <td>0</td>\n      <td>N/A</td>\n      <td>N/A</td>\n      <td>N/A</td>\n    </tr>\n    <tr>\n      <th>query on thyroxine</th>\n      <td>object</td>\n      <td>Categorical</td>\n      <td>N/A</td>\n      <td>0</td>\n      <td>N/A</td>\n      <td>N/A</td>\n      <td>N/A</td>\n    </tr>\n    <tr>\n      <th>on antithyroid medication</th>\n      <td>object</td>\n      <td>Categorical</td>\n      <td>N/A</td>\n      <td>0</td>\n      <td>N/A</td>\n      <td>N/A</td>\n      <td>N/A</td>\n    </tr>\n    <tr>\n      <th>sick</th>\n      <td>object</td>\n      <td>Categorical</td>\n      <td>N/A</td>\n      <td>0</td>\n      <td>N/A</td>\n      <td>N/A</td>\n      <td>N/A</td>\n    </tr>\n    <tr>\n      <th>pregnant</th>\n      <td>object</td>\n      <td>Categorical</td>\n      <td>N/A</td>\n      <td>0</td>\n      <td>N/A</td>\n      <td>N/A</td>\n      <td>N/A</td>\n    </tr>\n    <tr>\n      <th>thyroid surgery</th>\n      <td>object</td>\n      <td>Categorical</td>\n      <td>N/A</td>\n      <td>0</td>\n      <td>N/A</td>\n      <td>N/A</td>\n      <td>N/A</td>\n    </tr>\n    <tr>\n      <th>I131 treatment</th>\n      <td>object</td>\n      <td>Categorical</td>\n      <td>N/A</td>\n      <td>0</td>\n      <td>N/A</td>\n      <td>N/A</td>\n      <td>N/A</td>\n    </tr>\n    <tr>\n      <th>query hypothyroid</th>\n      <td>object</td>\n      <td>Categorical</td>\n      <td>N/A</td>\n      <td>0</td>\n      <td>N/A</td>\n      <td>N/A</td>\n      <td>N/A</td>\n    </tr>\n    <tr>\n      <th>query hyperthyroid</th>\n      <td>object</td>\n      <td>Categorical</td>\n      <td>N/A</td>\n      <td>0</td>\n      <td>N/A</td>\n      <td>N/A</td>\n      <td>N/A</td>\n    </tr>\n    <tr>\n      <th>lithium</th>\n      <td>object</td>\n      <td>Categorical</td>\n      <td>N/A</td>\n      <td>0</td>\n      <td>N/A</td>\n      <td>N/A</td>\n      <td>N/A</td>\n    </tr>\n    <tr>\n      <th>goitre</th>\n      <td>object</td>\n      <td>Categorical</td>\n      <td>N/A</td>\n      <td>0</td>\n      <td>N/A</td>\n      <td>N/A</td>\n      <td>N/A</td>\n    </tr>\n    <tr>\n      <th>tumor</th>\n      <td>object</td>\n      <td>Categorical</td>\n      <td>N/A</td>\n      <td>0</td>\n      <td>N/A</td>\n      <td>N/A</td>\n      <td>N/A</td>\n    </tr>\n    <tr>\n      <th>hypopituitary</th>\n      <td>object</td>\n      <td>Categorical</td>\n      <td>N/A</td>\n      <td>0</td>\n      <td>N/A</td>\n      <td>N/A</td>\n      <td>N/A</td>\n    </tr>\n    <tr>\n      <th>psych</th>\n      <td>object</td>\n      <td>Categorical</td>\n      <td>N/A</td>\n      <td>0</td>\n      <td>N/A</td>\n      <td>N/A</td>\n      <td>N/A</td>\n    </tr>\n    <tr>\n      <th>TSH measured</th>\n      <td>object</td>\n      <td>Categorical</td>\n      <td>N/A</td>\n      <td>0</td>\n      <td>N/A</td>\n      <td>N/A</td>\n      <td>N/A</td>\n    </tr>\n    <tr>\n      <th>TSH</th>\n      <td>float64</td>\n      <td>Numerical</td>\n      <td>0.005 - 530.0</td>\n      <td>842</td>\n      <td>100</td>\n      <td>5.218403</td>\n      <td>584.866153</td>\n    </tr>\n    <tr>\n      <th>T3 measured</th>\n      <td>object</td>\n      <td>Categorical</td>\n      <td>N/A</td>\n      <td>0</td>\n      <td>N/A</td>\n      <td>N/A</td>\n      <td>N/A</td>\n    </tr>\n    <tr>\n      <th>T3</th>\n      <td>float64</td>\n      <td>Numerical</td>\n      <td>0.05 - 18.0</td>\n      <td>2604</td>\n      <td>86</td>\n      <td>1.970629</td>\n      <td>0.787796</td>\n    </tr>\n    <tr>\n      <th>TT4 measured</th>\n      <td>object</td>\n      <td>Categorical</td>\n      <td>N/A</td>\n      <td>0</td>\n      <td>N/A</td>\n      <td>N/A</td>\n      <td>N/A</td>\n    </tr>\n    <tr>\n      <th>TT4</th>\n      <td>float64</td>\n      <td>Numerical</td>\n      <td>2.0 - 600.0</td>\n      <td>442</td>\n      <td>101</td>\n      <td>108.700305</td>\n      <td>1407.950791</td>\n    </tr>\n    <tr>\n      <th>T4U measured</th>\n      <td>object</td>\n      <td>Categorical</td>\n      <td>N/A</td>\n      <td>0</td>\n      <td>N/A</td>\n      <td>N/A</td>\n      <td>N/A</td>\n    </tr>\n    <tr>\n      <th>T4U</th>\n      <td>float64</td>\n      <td>Numerical</td>\n      <td>0.17 - 2.33</td>\n      <td>809</td>\n      <td>147</td>\n      <td>0.976056</td>\n      <td>0.040144</td>\n    </tr>\n    <tr>\n      <th>FTI measured</th>\n      <td>object</td>\n      <td>Categorical</td>\n      <td>N/A</td>\n      <td>0</td>\n      <td>N/A</td>\n      <td>N/A</td>\n      <td>N/A</td>\n    </tr>\n    <tr>\n      <th>FTI</th>\n      <td>float64</td>\n      <td>Numerical</td>\n      <td>1.4 - 881.0</td>\n      <td>802</td>\n      <td>95</td>\n      <td>113.640746</td>\n      <td>1726.539585</td>\n    </tr>\n    <tr>\n      <th>TBG measured</th>\n      <td>object</td>\n      <td>Categorical</td>\n      <td>N/A</td>\n      <td>0</td>\n      <td>N/A</td>\n      <td>N/A</td>\n      <td>N/A</td>\n    </tr>\n    <tr>\n      <th>TBG</th>\n      <td>float64</td>\n      <td>Numerical</td>\n      <td>0.1 - 200.0</td>\n      <td>8823</td>\n      <td>11</td>\n      <td>29.870057</td>\n      <td>444.387643</td>\n    </tr>\n    <tr>\n      <th>referral source</th>\n      <td>object</td>\n      <td>Categorical</td>\n      <td>N/A</td>\n      <td>0</td>\n      <td>N/A</td>\n      <td>N/A</td>\n      <td>N/A</td>\n    </tr>\n    <tr>\n      <th>Condition</th>\n      <td>object</td>\n      <td>Categorical</td>\n      <td>N/A</td>\n      <td>0</td>\n      <td>N/A</td>\n      <td>N/A</td>\n      <td>N/A</td>\n    </tr>\n  </tbody>\n</table>\n</div>"
     },
     "execution_count": 32,
     "metadata": {},
     "output_type": "execute_result"
    }
   ],
   "source": [
    "def analyze_thyroid_data(thyroid_data):\n",
    "    \"\"\"\n",
    "    Analyzes thyroid data and generates a summary table.\n",
    "\n",
    "    Args:\n",
    "        thyroid_data (pandas.DataFrame): The path to the Excel file containing thyroid data.\n",
    "\n",
    "    Returns:\n",
    "        pandas.DataFrame: A DataFrame summarizing the data analysis.\n",
    "    \"\"\"\n",
    "\n",
    "    columns = thyroid_data.columns\n",
    "    data_types = thyroid_data.dtypes\n",
    "    categorical = [\"Categorical\" if data_type == \"object\" else \"Numerical\" for data_type in data_types]\n",
    "    data_range = [f\"{thyroid_data[column].min()} - {thyroid_data[column].max()}\" if data_type == \"int64\" or data_type == \"float64\" else \"N/A\" for column, data_type in zip(columns, data_types)]\n",
    "    missing_values = [thyroid_data[column].isnull().sum() for column in columns]\n",
    "    outliers = [thyroid_data[column][thyroid_data[column] > thyroid_data[column].mean() + 3 * thyroid_data[column].std()].count() if thyroid_data[column].dtype == \"int64\" or thyroid_data[column].dtype == \"float64\" else \"N/A\" for column in columns]\n",
    "    mean = [thyroid_data[column].mean() if data_type == \"int64\" or data_type == \"float64\" else \"N/A\" for column, data_type in zip(columns, data_types)]\n",
    "    variance = [thyroid_data[column].var() if data_type == \"int64\" or data_type == \"float64\" else \"N/A\" for column, data_type in zip(columns, data_types)]\n",
    "\n",
    "    data = pd.DataFrame({\n",
    "        \"Data Type\": data_types,\n",
    "        \"Categorical/Numerical\": categorical,\n",
    "        \"Data Range\": data_range,\n",
    "        \"Number of Missing Values\": missing_values,\n",
    "        \"Outliers\": outliers,\n",
    "        \"Mean\": mean,\n",
    "        \"Variance\": variance\n",
    "    })\n",
    "\n",
    "    return data\n",
    "\n",
    "raw_thyroid = pd.read_excel(FILE, sheet_name='thyroid0387_UCI', na_values='?', usecols='B:AE')\n",
    "data = analyze_thyroid_data(raw_thyroid)\n",
    "data"
   ]
  },
  {
   "cell_type": "code",
   "execution_count": null,
   "id": "aee0e971db818ebf",
   "metadata": {
    "collapsed": false
   },
   "outputs": [],
   "source": []
  }
 ],
 "metadata": {
  "kernelspec": {
   "display_name": "Python 3 (ipykernel)",
   "language": "python",
   "name": "python3"
  },
  "language_info": {
   "codemirror_mode": {
    "name": "ipython",
    "version": 3
   },
   "file_extension": ".py",
   "mimetype": "text/x-python",
   "name": "python",
   "nbconvert_exporter": "python",
   "pygments_lexer": "ipython3",
   "version": "3.12.4"
  }
 },
 "nbformat": 4,
 "nbformat_minor": 5
}
