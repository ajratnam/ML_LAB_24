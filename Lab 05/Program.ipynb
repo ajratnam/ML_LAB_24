{
 "cells": [
  {
   "cell_type": "code",
   "execution_count": 5,
   "id": "initial_id",
   "metadata": {
    "collapsed": true,
    "ExecuteTime": {
     "end_time": "2024-09-11T05:00:44.151309Z",
     "start_time": "2024-09-11T05:00:44.147128Z"
    }
   },
   "outputs": [],
   "source": [
    "import pandas as pd\n",
    "import numpy as np\n",
    "from sklearn.linear_model import LinearRegression\n",
    "from sklearn.model_selection import train_test_split\n",
    "from sklearn.metrics import mean_squared_error, mean_absolute_percentage_error, r2_score\n",
    "from sklearn.metrics import silhouette_score, calinski_harabasz_score, davies_bouldin_score\n",
    "from sklearn.cluster import KMeans\n",
    "import matplotlib.pyplot as plt"
   ]
  },
  {
   "cell_type": "code",
   "outputs": [
    {
     "name": "stdout",
     "output_type": "stream",
     "text": [
      "0.7744100366691318\n"
     ]
    }
   ],
   "source": [
    "def train_linear_regression_model(df, features, target, test_size=0.3, random_state=23):\n",
    "    \"\"\"\n",
    "    Trains a linear regression model on the given data.\n",
    "\n",
    "    Args:\n",
    "        df (pandas.DataFrame): The input DataFrame containing features and target variable.\n",
    "        features (list): A list of column names representing the features.\n",
    "        target (str): The name of the column representing the target variable.\n",
    "        test_size (float): The proportion of the dataset to include in the test split.\n",
    "        random_state (int): Controls the shuffling applied to the data before applying the split.\n",
    "\n",
    "    Returns:\n",
    "        tuple: A tuple containing the trained linear regression model, predicted target values for the test set, \n",
    "               and predicted target values for the training set.\n",
    "    \"\"\"\n",
    "    X = df.loc[:, features]\n",
    "    Y = df[target]\n",
    "\n",
    "    X_train, X_test, Y_train, Y_test = train_test_split(X, Y, test_size=test_size, random_state=random_state, shuffle=True)\n",
    "\n",
    "    model = LinearRegression()\n",
    "    model.fit(X_train, Y_train)\n",
    "\n",
    "    Y_pred = model.predict(X_test)\n",
    "    Y_pred_train = model.predict(X_train)\n",
    "\n",
    "    return model, Y_pred, Y_pred_train, X_train, X_test, Y_train, Y_test\n",
    "\n",
    "df = pd.read_csv('../Datasets/annotated_dataset.csv', nrows=1000)\n",
    "df['generated'] = df[\"generated\"].astype('int')\n",
    "\n",
    "features = [\"text_length\", \"unique_word_count\", \"stop_word_count\", \"special_character_count\"]\n",
    "target = \"average_word_length\"\n",
    "\n",
    "model, Y_pred, Y_pred_train, X_train, X_test, Y_train, Y_test = train_linear_regression_model(df, features, target)\n",
    "\n",
    "print(\"Model's score\", model.score(X_test, Y_test))"
   ],
   "metadata": {
    "collapsed": false,
    "ExecuteTime": {
     "end_time": "2024-09-11T04:59:34.681287Z",
     "start_time": "2024-09-11T04:59:34.590482Z"
    }
   },
   "id": "902dc3c93053eb64",
   "execution_count": 4
  },
  {
   "cell_type": "code",
   "outputs": [
    {
     "name": "stdout",
     "output_type": "stream",
     "text": [
      "Training Metrics\n",
      "MSE:  1.3862989493582245e-05\n",
      "RMSE:  0.0037233035725793627\n",
      "MAPE:  0.015875983946905856\n",
      "R2:  0.7312450749334658\n",
      "\n",
      "Testing Metrics\n",
      "MSE:  1.2688941321692714e-05\n",
      "RMSE:  0.003562154028350362\n",
      "MAPE:  0.0156624101458323\n",
      "R2:  0.7744100366691318\n"
     ]
    }
   ],
   "source": [
    "def print_stats(x_vals, y_vals):\n",
    "    mse = mean_squared_error(x_vals, y_vals)\n",
    "    rmse = np.sqrt(mse)\n",
    "    mape = mean_absolute_percentage_error(x_vals, y_vals)\n",
    "    r2 = r2_score(x_vals, y_vals)\n",
    "\n",
    "    print(\"MSE: \", mse)\n",
    "    print(\"RMSE: \", rmse)\n",
    "    print(\"MAPE: \", mape)\n",
    "    print(\"R2: \", r2)\n",
    "\n",
    "\n",
    "\n",
    "print(\"Training Metrics\")\n",
    "print_stats(Y_train, Y_pred_train)\n",
    "print()\n",
    "print(\"Testing Metrics\")\n",
    "print_stats(Y_test, Y_pred)"
   ],
   "metadata": {
    "collapsed": false,
    "ExecuteTime": {
     "end_time": "2024-09-11T05:03:30.042661Z",
     "start_time": "2024-09-11T05:03:30.032579Z"
    }
   },
   "id": "68202f6d8f15a1ea",
   "execution_count": 7
  },
  {
   "cell_type": "code",
   "outputs": [
    {
     "data": {
      "text/plain": "array([[2729.18556701,  244.56701031,  230.51134021,  541.32164948],\n       [4344.90232558,  355.89767442,  358.96744186,  856.09302326]])"
     },
     "metadata": {},
     "output_type": "display_data"
    }
   ],
   "source": [
    "kmeans = KMeans(n_clusters=2, random_state=0, n_init='auto')\n",
    "kmeans.fit(X_train)\n",
    "\n",
    "display(kmeans.cluster_centers_)"
   ],
   "metadata": {
    "collapsed": false,
    "ExecuteTime": {
     "end_time": "2024-09-11T05:03:50.057718Z",
     "start_time": "2024-09-11T05:03:49.371613Z"
    }
   },
   "id": "30e13c7f050d17c5",
   "execution_count": 8
  },
  {
   "cell_type": "code",
   "outputs": [
    {
     "name": "stdout",
     "output_type": "stream",
     "text": [
      "Silhouette Score:  0.5934930010860674\n",
      "Calinski Harabasz Score:  1141.3543794468337\n",
      "Davies Bouldin Score:  0.5881780244808492\n"
     ]
    }
   ],
   "source": [
    "kmeans = KMeans(n_clusters=2, random_state=42).fit(X_train) \n",
    "shil_score = silhouette_score(X_train, kmeans.labels_) \n",
    "cal_har_score = calinski_harabasz_score(X_train, kmeans.labels_) \n",
    "davi_score = davies_bouldin_score(X_train, kmeans.labels_)\n",
    "\n",
    "print(\"Silhouette Score: \", shil_score)\n",
    "print(\"Calinski Harabasz Score: \", cal_har_score)\n",
    "print(\"Davies Bouldin Score: \", davi_score)"
   ],
   "metadata": {
    "collapsed": false
   },
   "id": "6a812a45738ae2c5",
   "execution_count": 9
  },
  {
   "cell_type": "code",
   "outputs": [],
   "source": [],
   "metadata": {
    "collapsed": false
   },
   "id": "ded8148c475c30d8"
  }
 ],
 "metadata": {
  "kernelspec": {
   "display_name": "Python 3",
   "language": "python",
   "name": "python3"
  },
  "language_info": {
   "codemirror_mode": {
    "name": "ipython",
    "version": 2
   },
   "file_extension": ".py",
   "mimetype": "text/x-python",
   "name": "python",
   "nbconvert_exporter": "python",
   "pygments_lexer": "ipython2",
   "version": "2.7.6"
  }
 },
 "nbformat": 4,
 "nbformat_minor": 5
}
